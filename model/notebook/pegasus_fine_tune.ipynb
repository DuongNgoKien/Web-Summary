{
 "cells": [
  {
   "cell_type": "code",
   "execution_count": null,
   "id": "db22c49c",
   "metadata": {},
   "outputs": [],
   "source": [
    "from datasets import load_dataset\n",
    "from transformers import PegasusXForConditionalGeneration, AutoTokenizer, Trainer, TrainingArguments\n",
    "import torch\n",
    "import numpy as np\n",
    "import os\n",
    "import random"
   ]
  },
  {
   "cell_type": "code",
   "execution_count": null,
   "id": "a2cb145c",
   "metadata": {},
   "outputs": [],
   "source": [
    "torch_device = 'cuda' if torch.cuda.is_available() else 'cpu'\n",
    "output_dir = './results'\n",
    "model_name = 'google/pegasus-x-base'\n",
    "text_path = 'data/texts.txt'\n",
    "label_path = 'data/labels.txt'\n",
    "num_epochs = 450"
   ]
  },
  {
   "cell_type": "code",
   "execution_count": null,
   "metadata": {},
   "outputs": [],
   "source": [
    "def set_seed(seed: int = 42) -> None:\n",
    "    np.random.seed(seed)\n",
    "    random.seed(seed)\n",
    "    torch.manual_seed(seed)\n",
    "    torch.cuda.manual_seed(seed)\n",
    "    # When running on the CuDNN backend, two further options must be set\n",
    "    torch.backends.cudnn.deterministic = True\n",
    "    torch.backends.cudnn.benchmark = False\n",
    "    # Set a fixed value for the hash seed\n",
    "    os.environ[\"PYTHONHASHSEED\"] = str(seed)\n",
    "    print(f\"Random seed set as {seed}\")"
   ]
  },
  {
   "cell_type": "code",
   "execution_count": null,
   "id": "195dec3d",
   "metadata": {},
   "outputs": [],
   "source": [
    "tokenizer = AutoTokenizer.from_pretrained(model_name)\n",
    "model = PegasusXForConditionalGeneration.from_pretrained(model_name)"
   ]
  },
  {
   "cell_type": "code",
   "execution_count": null,
   "id": "5034fa3f",
   "metadata": {},
   "outputs": [],
   "source": [
    "dataset = load_dataset('xsum')\n",
    "train_texts, train_labels = dataset['train']['document'][:1000], dataset['train']['summary'][:1000]"
   ]
  },
  {
   "cell_type": "code",
   "execution_count": null,
   "id": "7afbd346",
   "metadata": {},
   "outputs": [],
   "source": [
    "with open(text_path, 'r', encoding='utf-8') as fp:\n",
    "    train_texts = fp.read().split('\\n')\n",
    "\n",
    "with open(label_path, 'r', encoding='utf-8') as fp:\n",
    "    train_labels = fp.read().split('\\n')"
   ]
  },
  {
   "cell_type": "code",
   "execution_count": null,
   "id": "a66fd5e6",
   "metadata": {},
   "outputs": [],
   "source": [
    "class PegasusDataset(torch.utils.data.Dataset):\n",
    "    def __init__(self, encodings, labels):\n",
    "        self.encodings = encodings\n",
    "        self.labels = labels\n",
    "    def __getitem__(self, idx):\n",
    "        item = {key: torch.tensor(val[idx]) for key, val in self.encodings.items()}\n",
    "        item['labels'] = torch.tensor(self.labels['input_ids'][idx])\n",
    "        return item\n",
    "    def __len__(self):\n",
    "        return len(self.encodings.input_ids)"
   ]
  },
  {
   "cell_type": "code",
   "execution_count": null,
   "id": "7fcd133f",
   "metadata": {},
   "outputs": [],
   "source": [
    "inputs = tokenizer(train_texts, return_tensors='pt', padding=True, truncation=True)\n",
    "labels = tokenizer(train_labels, return_tensors='pt', padding=True, truncation=True)\n",
    "dataset = PegasusDataset(inputs, labels)"
   ]
  },
  {
   "cell_type": "code",
   "execution_count": null,
   "id": "40ddf252",
   "metadata": {},
   "outputs": [],
   "source": [
    "model = model.to(torch_device)"
   ]
  },
  {
   "cell_type": "code",
   "execution_count": null,
   "id": "008307fa",
   "metadata": {},
   "outputs": [],
   "source": [
    "training_args = TrainingArguments(\n",
    "    output_dir=output_dir,           \n",
    "    num_train_epochs=num_epochs,          \n",
    "    per_device_train_batch_size=4,               \n",
    "    save_total_limit=2,                           \n",
    "    weight_decay=0.01,               \n",
    "    logging_dir='./logs',\n",
    "    logging_steps=100,\n",
    ")\n",
    "\n",
    "trainer = Trainer(\n",
    "    model=model,                        \n",
    "    args=training_args,                  \n",
    "    train_dataset=dataset,\n",
    "    tokenizer=tokenizer\n",
    ")"
   ]
  },
  {
   "cell_type": "code",
   "execution_count": null,
   "metadata": {},
   "outputs": [],
   "source": [
    "trainer.train()"
   ]
  }
 ],
 "metadata": {
  "kernelspec": {
   "display_name": "Python 3 (ipykernel)",
   "language": "python",
   "name": "python3"
  },
  "language_info": {
   "codemirror_mode": {
    "name": "ipython",
    "version": 3
   },
   "file_extension": ".py",
   "mimetype": "text/x-python",
   "name": "python",
   "nbconvert_exporter": "python",
   "pygments_lexer": "ipython3",
   "version": "3.9.18"
  }
 },
 "nbformat": 4,
 "nbformat_minor": 5
}
