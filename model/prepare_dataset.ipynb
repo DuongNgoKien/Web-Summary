{
 "cells": [
  {
   "cell_type": "code",
   "execution_count": 1,
   "id": "a03ae81e",
   "metadata": {},
   "outputs": [
    {
     "name": "stderr",
     "output_type": "stream",
     "text": [
      "C:\\Users\\DuongNgoKien\\AppData\\Local\\anaconda3\\envs\\api\\lib\\site-packages\\tqdm\\auto.py:21: TqdmWarning: IProgress not found. Please update jupyter and ipywidgets. See https://ipywidgets.readthedocs.io/en/stable/user_install.html\n",
      "  from .autonotebook import tqdm as notebook_tqdm\n"
     ]
    }
   ],
   "source": [
    "from datasets import load_dataset\n",
    "import torch\n",
    "import evaluate\n",
    "import nltk\n",
    "from tqdm import tqdm\n",
    "from transformers import PegasusForConditionalGeneration, PegasusTokenizer, Trainer, TrainingArguments"
   ]
  },
  {
   "cell_type": "code",
   "execution_count": 2,
   "id": "48f227ea",
   "metadata": {},
   "outputs": [
    {
     "name": "stderr",
     "output_type": "stream",
     "text": [
      "Some weights of PegasusForConditionalGeneration were not initialized from the model checkpoint at google/pegasus-large and are newly initialized: ['model.encoder.embed_positions.weight', 'model.decoder.embed_positions.weight']\n",
      "You should probably TRAIN this model on a down-stream task to be able to use it for predictions and inference.\n"
     ]
    }
   ],
   "source": [
    "tokenizer = PegasusTokenizer.from_pretrained('google/pegasus-large')\n",
    "model = PegasusForConditionalGeneration.from_pretrained('google/pegasus-large')"
   ]
  },
  {
   "cell_type": "code",
   "execution_count": 2,
   "id": "ae5b2d55",
   "metadata": {},
   "outputs": [
    {
     "name": "stderr",
     "output_type": "stream",
     "text": [
      "[nltk_data] Downloading package punkt to\n",
      "[nltk_data]     C:\\Users\\DuongNgoKien\\AppData\\Roaming\\nltk_data...\n",
      "[nltk_data]   Package punkt is already up-to-date!\n"
     ]
    }
   ],
   "source": [
    "nltk.download('punkt')\n",
    "rouge = evaluate.load('rouge')"
   ]
  },
  {
   "cell_type": "code",
   "execution_count": 3,
   "id": "ca02cd97",
   "metadata": {},
   "outputs": [],
   "source": [
    "dataset = load_dataset('xsum')"
   ]
  },
  {
   "cell_type": "code",
   "execution_count": 4,
   "id": "ed4373e7",
   "metadata": {},
   "outputs": [],
   "source": [
    "train_texts, train_labels = dataset['train']['document'][:1000], dataset['train']['summary'][:1000]"
   ]
  },
  {
   "cell_type": "code",
   "execution_count": 5,
   "id": "c953ef65",
   "metadata": {},
   "outputs": [],
   "source": [
    "def process_data(document):\n",
    "    labels = \"\"\n",
    "    l_sentences = document.split(\"\\n\")\n",
    "    sentences = []\n",
    "    for s in l_sentences:\n",
    "        s = nltk.sent_tokenize(s)\n",
    "        sentences.extend(s)\n",
    "    len_doc = len(sentences)\n",
    "    n_mask = int(len_doc / 5)\n",
    "    if n_mask == 0: n_mask =1\n",
    "    ma_rouge = torch.zeros(size=(len_doc, len_doc))\n",
    "    for i in range(len_doc):\n",
    "        for j in range(i+1, len_doc):\n",
    "            m = rouge.compute(predictions=[sentences[i]], references=[[sentences[j]]])\n",
    "            ma_rouge[i,j] = m['rouge1']\n",
    "            ma_rouge[j,i] = m['rouge1']\n",
    "    mean_rouge = torch.mean(ma_rouge, 1)\n",
    "    _, indexes = torch.topk(mean_rouge, n_mask)\n",
    "    indexes = torch.sort(indexes, 0).values\n",
    "    for i in range(indexes.size()[0]):\n",
    "        masked_sentence = sentences[indexes[i]]\n",
    "        document = document.replace(masked_sentence, \"<mask_1>\")\n",
    "        labels += masked_sentence + \" \"\n",
    "    return document.replace('\\n', ' '), labels"
   ]
  },
  {
   "cell_type": "code",
   "execution_count": 9,
   "id": "8c34aa94",
   "metadata": {},
   "outputs": [
    {
     "data": {
      "text/plain": [
       "['The long road to the 2026 World Cup in the United States, Canada and Mexico began in earnest in Asia with 36 teams in action Thursday.Australia, who reached the last 16 at the Qatar 2022 World Cup before bowing out 2-1 to Lionel Messi and eventual champions Argentina, hammered Bangladesh 7-0 in Melbourne']"
      ]
     },
     "execution_count": 9,
     "metadata": {},
     "output_type": "execute_result"
    }
   ],
   "source": [
    "nltk.sent_tokenize('The long road to the 2026 World Cup in the United States, Canada and Mexico began in earnest in Asia with 36 teams in action Thursday.Australia, who reached the last 16 at the Qatar 2022 World Cup before bowing out 2-1 to Lionel Messi and eventual champions Argentina, hammered Bangladesh 7-0 in Melbourne')"
   ]
  },
  {
   "cell_type": "code",
   "execution_count": 6,
   "id": "5c859e79",
   "metadata": {},
   "outputs": [
    {
     "name": "stderr",
     "output_type": "stream",
     "text": [
      "100%|██████████| 500/500 [13:21:22<00:00, 96.16s/it]     \n"
     ]
    }
   ],
   "source": [
    "f_text = open(\"texts1.txt\", \"a\", encoding='utf-8')\n",
    "f_label = open(\"labels1.txt\", \"a\", encoding='utf-8')\n",
    "for i in tqdm(range(500, 1000)):\n",
    "    doc, label = process_data(train_texts[i])\n",
    "    f_text.write(doc + \"\\n\")\n",
    "    f_label.write(label + \"\\n\")\n",
    "f_text.close()\n",
    "f_label.close()"
   ]
  },
  {
   "cell_type": "code",
   "execution_count": null,
   "id": "06e07490",
   "metadata": {},
   "outputs": [],
   "source": []
  }
 ],
 "metadata": {
  "kernelspec": {
   "display_name": "Python 3 (ipykernel)",
   "language": "python",
   "name": "python3"
  },
  "language_info": {
   "codemirror_mode": {
    "name": "ipython",
    "version": 3
   },
   "file_extension": ".py",
   "mimetype": "text/x-python",
   "name": "python",
   "nbconvert_exporter": "python",
   "pygments_lexer": "ipython3",
   "version": "3.9.18"
  }
 },
 "nbformat": 4,
 "nbformat_minor": 5
}
