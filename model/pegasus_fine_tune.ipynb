{
 "cells": [
  {
   "cell_type": "code",
   "execution_count": 8,
   "id": "db22c49c",
   "metadata": {},
   "outputs": [
    {
     "name": "stderr",
     "output_type": "stream",
     "text": [
      "C:\\Users\\DuongNgoKien\\AppData\\Local\\anaconda3\\envs\\api\\lib\\site-packages\\tqdm\\auto.py:21: TqdmWarning: IProgress not found. Please update jupyter and ipywidgets. See https://ipywidgets.readthedocs.io/en/stable/user_install.html\n",
      "  from .autonotebook import tqdm as notebook_tqdm\n"
     ]
    }
   ],
   "source": [
    "from datasets import load_dataset\n",
    "from transformers import PegasusForConditionalGeneration, PegasusTokenizer, Trainer, TrainingArguments\n",
    "import evaluate\n",
    "import torch\n",
    "import evaluate\n",
    "import nltk"
   ]
  },
  {
   "cell_type": "code",
   "execution_count": null,
   "id": "a2cb145c",
   "metadata": {},
   "outputs": [],
   "source": [
    "torch_device = 'cuda' if torch.cuda.is_available() else 'cpu'\n",
    "output_dir = './results'\n",
    "model_name = 'google/pegasus-large'\n",
    "text_path = 'texts.txt'\n",
    "label_path = 'labels.txt'"
   ]
  },
  {
   "cell_type": "code",
   "execution_count": 12,
   "id": "a1774a76",
   "metadata": {},
   "outputs": [
    {
     "name": "stderr",
     "output_type": "stream",
     "text": [
      "Some weights of PegasusForConditionalGeneration were not initialized from the model checkpoint at google/pegasus-large and are newly initialized: ['model.encoder.embed_positions.weight', 'model.decoder.embed_positions.weight']\n",
      "You should probably TRAIN this model on a down-stream task to be able to use it for predictions and inference.\n"
     ]
    }
   ],
   "source": [
    "tokenizer = PegasusTokenizer.from_pretrained(model_name)\n",
    "model = PegasusForConditionalGeneration.from_pretrained(model_name)"
   ]
  },
  {
   "cell_type": "code",
   "execution_count": 15,
   "id": "30ea893a",
   "metadata": {},
   "outputs": [
    {
     "name": "stderr",
     "output_type": "stream",
     "text": [
      "Downloading config.json: 100%|██████████| 1.39k/1.39k [00:00<00:00, 20.2kB/s]\n",
      "C:\\Users\\DuongNgoKien\\AppData\\Local\\anaconda3\\envs\\api\\lib\\site-packages\\huggingface_hub\\file_download.py:137: UserWarning: `huggingface_hub` cache-system uses symlinks by default to efficiently store duplicated files but your machine does not support them in C:\\Users\\DuongNgoKien\\.cache\\huggingface\\hub. Caching files will still work but in a degraded version that might require more space on your disk. This warning can be disabled by setting the `HF_HUB_DISABLE_SYMLINKS_WARNING` environment variable. For more details, see https://huggingface.co/docs/huggingface_hub/how-to-cache#limitations.\n",
      "To support symlinks on Windows, you either need to activate Developer Mode or to run Python as an administrator. In order to see activate developer mode, see this article: https://docs.microsoft.com/en-us/windows/apps/get-started/enable-your-device-for-development\n",
      "  warnings.warn(message)\n",
      "Downloading pytorch_model.bin: 100%|██████████| 2.28G/2.28G [03:42<00:00, 10.2MB/s]\n",
      "Some weights of PegasusForConditionalGeneration were not initialized from the model checkpoint at google/pegasus-xsum and are newly initialized: ['model.encoder.embed_positions.weight', 'model.decoder.embed_positions.weight']\n",
      "You should probably TRAIN this model on a down-stream task to be able to use it for predictions and inference.\n",
      "Downloading generation_config.json: 100%|██████████| 259/259 [00:00<?, ?B/s] \n"
     ]
    }
   ],
   "source": [
    "model = PegasusForConditionalGeneration.from_pretrained('google/pegasus-xsum')"
   ]
  },
  {
   "cell_type": "code",
   "execution_count": 16,
   "id": "4703362a",
   "metadata": {},
   "outputs": [
    {
     "name": "stderr",
     "output_type": "stream",
     "text": [
      "Downloading tokenizer_config.json: 100%|██████████| 87.0/87.0 [00:00<?, ?B/s]\n",
      "Downloading spiece.model: 100%|██████████| 1.91M/1.91M [00:00<00:00, 5.57MB/s]\n",
      "Downloading (…)cial_tokens_map.json: 100%|██████████| 65.0/65.0 [00:00<00:00, 8.17kB/s]\n",
      "Downloading tokenizer.json: 100%|██████████| 3.52M/3.52M [00:00<00:00, 6.13MB/s]\n"
     ]
    }
   ],
   "source": [
    "tokenizer = PegasusTokenizer.from_pretrained('google/pegasus-xsum')"
   ]
  },
  {
   "cell_type": "code",
   "execution_count": 66,
   "id": "195dec3d",
   "metadata": {},
   "outputs": [
    {
     "name": "stderr",
     "output_type": "stream",
     "text": [
      "Some weights of PegasusForConditionalGeneration were not initialized from the model checkpoint at google/pegasus-xsum and are newly initialized: ['model.encoder.embed_positions.weight', 'model.decoder.embed_positions.weight']\n",
      "You should probably TRAIN this model on a down-stream task to be able to use it for predictions and inference.\n"
     ]
    }
   ],
   "source": [
    "from transformers import AutoTokenizer, AutoModelForSeq2SeqLM\n",
    "tokenizer = AutoTokenizer.from_pretrained(\"google/pegasus-xsum\")\n",
    "model = AutoModelForSeq2SeqLM.from_pretrained(\"google/pegasus-xsum\")"
   ]
  },
  {
   "cell_type": "code",
   "execution_count": 35,
   "id": "5034fa3f",
   "metadata": {},
   "outputs": [],
   "source": [
    "dataset = load_dataset('xsum')\n",
    "train_texts, train_labels = dataset['train']['document'][:1000], dataset['train']['summary'][:1000]"
   ]
  },
  {
   "cell_type": "code",
   "execution_count": 67,
   "id": "4feb4c50",
   "metadata": {},
   "outputs": [
    {
     "data": {
      "text/plain": [
       "['Plans to give English MPs a veto over laws affecting England would be \"irresponsible\", Ed Miliband has warned.']"
      ]
     },
     "execution_count": 67,
     "metadata": {},
     "output_type": "execute_result"
    }
   ],
   "source": [
    "inputs = tokenizer(train_texts[200], max_length=512, truncation=True, return_tensors='pt')\n",
    "summary_ids = model.generate(inputs[\"input_ids\"], num_beams=4, max_length=50)\n",
    "tokenizer.batch_decode(summary_ids, skip_special_tokens=True, clean_up_tokenization_spaces=False)"
   ]
  },
  {
   "cell_type": "code",
   "execution_count": 58,
   "id": "8ad425e9",
   "metadata": {},
   "outputs": [],
   "source": [
    "inputs = tokenizer(train_texts[200], max_length=1024, truncation=True, return_tensors='pt')"
   ]
  },
  {
   "cell_type": "code",
   "execution_count": 62,
   "id": "22cec86d",
   "metadata": {},
   "outputs": [
    {
     "data": {
      "text/plain": [
       "torch.Size([1, 1024])"
      ]
     },
     "execution_count": 62,
     "metadata": {},
     "output_type": "execute_result"
    }
   ],
   "source": [
    "inputs['input_ids'].size()"
   ]
  },
  {
   "cell_type": "code",
   "execution_count": 55,
   "id": "c163c629",
   "metadata": {},
   "outputs": [
    {
     "data": {
      "text/plain": [
       "'In a Commons debate, the ex-Labour leader said Conservative plans to limit the voting powers of Scottish MPs on Commons laws would \"rip up\" hundreds of years of parliamentary procedure.\\nThe SNP said the Conservatives wanted to create a \"quasi-English Parliament\".\\nBut ministers said it was vital England was treated fairly as further powers were devolved to other parts of the UK.\\nAt the end of the debate, Labour staged and won a vote in which the government abstained. And Conservative MP David Davis raised a point of order to urge the government to allow more time for the matter to be considered.\\nThe government believes bills applying exclusively to England should not become law without the explicit consent of MPs from English constituencies and it wants to change Commons rules known as standing orders to give them a \"decisive say\" during their passage.\\nMinisters say this will address the longstanding anomaly by which Scottish MPs can vote on issues such as health and education affecting England but English MPs have no say on similar matters relating to Scotland, where such policies are devolved.\\nMark D\\'Arcy, BBC Parliamentary correspondent\\nPanic stations? From the point of view of the government whips this afternoon\\'s emergency Commons debate on English Votes for English Laws was really rather alarming.\\nThe debate, so skilfully secured by Lib Dem ex Scottish secretary Alistair Carmichael, produced a slightly pointless vote in which the Conservatives mostly abstained, but it brought all kinds of nasty tensions to the surface.\\nConservative MPs are supposed to be signed up for EVEL under the terms of their manifesto, but there were clearly quite a few with doubts, some about the policy, many more about the process, which was Mr Carmichael\\'s line of attack.\\nRead the article in full\\nHowever, the plans came under sustained attack from Labour, SNP and Lib Dems in an urgent debate, secured by former Scottish Secretary Alistair Carmichael.\\nMPs are due to debate and vote on the government\\'s plans next week but Mr Carmichael, the MP for Orkney and Shetland, said the plans required more detailed consideration, arguably through primary legislation.\\nIf MPs representing constituencies in England had a \"veto\" on certain legislation, it would breach the longstanding principle that MPs, no matter who they represented, were \"all equal\".\\n\"To go as far as the government wants to go in the timescale they want to go brings with it an attendant level of risk that I would consider to be irresponsible,\" he said.\\n\"They are not entitled to use the UK Parliament as a proxy for an English Parliament.\"\\nAssurances that the new system would be reviewed by MPs after a year were inadequate, he added, saying this would not be capable of \"putting a dangerous genie back in the bottle after it had been let out - we all know that is the political reality\".\\nBut Commons Leader Chris Grayling said it was \"simply incorrect\" to claim some MPs would be prevented from debating and voting on certain legislation and would continue to exercise the same rights as they do now.\\nPressed by Mr Miliband on \"what the meaning and definition\" of English-only legislation would be, Mr Grayling said it would be up to the Speaker to decide but he believed a \"simple test\" would be what things were devolved to Scotland.\\nRequiring bills to have the support of a \"double majority\" of the whole of the Commons and those MPs representing England would also help mitigate \"any resentment\" felt by English voters about the slower pace of devolution to England.\\n\"It is of vital importance that English citizens of the UK, as we move to an extra layer of devolution to Scotland and Wales and devolve additional tax powers to Northern Ireland, that they think it is fair,\" he said.\\n\"It is what we pledged to do in our manifesto. We set it out in detail, step by step by step. We are implementing these changes and keeping our promises. I think the people who elected us would expect nothing else.\"\\nMr Miliband said the Conservatives had the power to address the issue after winning the election but urged them to think again.\\n\"Is this true to the traditions of Conservatism? No because the last thing you do is rip up hundreds of years of constitutional practice in a standing order vote just before the House goes into recess,\" he said.\\n\"Doing this procedure in the way it is being proposed is an act of constitutional vandalism. It really is.\"\\nThe SNP said Scottish voters would be affected by legislation on schools and NHS budgets in England through the Barnett Formula used to allocate public spending to different nations of the UK.\\n\"This not just English votes for English laws, this is English votes for Scottish laws,\" said Pete Wishart, MP for Perth and North Perthshire. \"It is totally and utterly unacceptable.\"\\nHe added: \"Why don\\'t they just tattoo our foreheads \\'Scottish\\' and then they would be able to identify us.\"\\nAnd Conservative MP Sir Edward Leigh said the move would not make any difference to the outcome of votes and urged ministers to omit laws which indirectly applied to Scotland, saying not to do so would be a \"gift\" to the SNP\\'s independence campaign.\\nResponding to a question by an SNP MP on Monday, Mr Grayling said the only English-only measure during the last Parliament had been the Education Bill, and there were 13 Bills which applied to England and Wales.'"
      ]
     },
     "execution_count": 55,
     "metadata": {},
     "output_type": "execute_result"
    }
   ],
   "source": [
    "train_texts[200]"
   ]
  },
  {
   "cell_type": "code",
   "execution_count": 44,
   "id": "2ea69786",
   "metadata": {},
   "outputs": [
    {
     "data": {
      "text/plain": [
       "tensor([[15458,  2893,   115,  ...,   111,   109,     1]])"
      ]
     },
     "execution_count": 44,
     "metadata": {},
     "output_type": "execute_result"
    }
   ],
   "source": [
    "inputs[\"input_ids\"]"
   ]
  },
  {
   "cell_type": "code",
   "execution_count": 10,
   "id": "7afbd346",
   "metadata": {},
   "outputs": [],
   "source": [
    "with open(text_path, 'r', encoding='utf-8') as fp:\n",
    "    train_texts = fp.read().split('\\n')\n",
    "\n",
    "with open(label_path, 'r', encoding='utf-8') as fp:\n",
    "    train_labels = fp.read().split('\\n')"
   ]
  },
  {
   "cell_type": "code",
   "execution_count": 9,
   "id": "a66fd5e6",
   "metadata": {},
   "outputs": [],
   "source": [
    "class PegasusDataset(torch.utils.data.Dataset):\n",
    "    def __init__(self, encodings, labels):\n",
    "        self.encodings = encodings\n",
    "        self.labels = labels\n",
    "    def __getitem__(self, idx):\n",
    "        item = {key: torch.tensor(val[idx]) for key, val in self.encodings.items()}\n",
    "        item['labels'] = torch.tensor(self.labels['input_ids'][idx])\n",
    "        return item\n",
    "    def __len__(self):\n",
    "        return len(self.encodings.input_ids)"
   ]
  },
  {
   "cell_type": "code",
   "execution_count": 13,
   "id": "7fcd133f",
   "metadata": {},
   "outputs": [],
   "source": [
    "inputs = tokenizer(train_texts, return_tensors='pt', padding=True, truncation=True)\n",
    "labels = tokenizer(train_labels, return_tensors='pt', padding=True, truncation=True)\n",
    "dataset = PegasusDataset(inputs, labels)"
   ]
  },
  {
   "cell_type": "code",
   "execution_count": null,
   "id": "40ddf252",
   "metadata": {},
   "outputs": [],
   "source": [
    "model = model.to(torch_device)"
   ]
  },
  {
   "cell_type": "code",
   "execution_count": null,
   "metadata": {},
   "outputs": [],
   "source": [
    "num_epochs = 450"
   ]
  },
  {
   "cell_type": "code",
   "execution_count": null,
   "id": "008307fa",
   "metadata": {},
   "outputs": [],
   "source": [
    "training_args = TrainingArguments(\n",
    "    output_dir=output_dir,           \n",
    "    num_train_epochs=num_epochs,          \n",
    "    per_device_train_batch_size=4,               \n",
    "    save_total_limit=5,                           \n",
    "    weight_decay=0.01,               \n",
    "    logging_dir='./logs',\n",
    "    logging_steps=10,\n",
    ")\n",
    "\n",
    "trainer = Trainer(\n",
    "    model=model,                        \n",
    "    args=training_args,                  \n",
    "    train_dataset=train_dataset,\n",
    "    tokenizer=tokenizer\n",
    ")"
   ]
  }
 ],
 "metadata": {
  "kernelspec": {
   "display_name": "Python 3 (ipykernel)",
   "language": "python",
   "name": "python3"
  },
  "language_info": {
   "codemirror_mode": {
    "name": "ipython",
    "version": 3
   },
   "file_extension": ".py",
   "mimetype": "text/x-python",
   "name": "python",
   "nbconvert_exporter": "python",
   "pygments_lexer": "ipython3",
   "version": "3.9.18"
  }
 },
 "nbformat": 4,
 "nbformat_minor": 5
}
